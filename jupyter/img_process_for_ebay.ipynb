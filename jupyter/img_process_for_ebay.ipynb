{
 "cells": [
  {
   "cell_type": "code",
   "execution_count": 5,
   "metadata": {},
   "outputs": [
    {
     "name": "stdout",
     "output_type": "stream",
     "text": [
      "Done\n"
     ]
    }
   ],
   "source": [
    "#mosaic an image into a single column and\n",
    "#save the mosaic\n",
    "import os.path as path\n",
    "from shutil import copyfile\n",
    "import cv2\n",
    "from opencvlib import view\n",
    "from opencvlib.view import draw_str\n",
    "import opencvlib\n",
    "import opencvlib.imgpipes.generators as gen\n",
    "import funclib.iolib as iolib\n",
    "import opencvlib.transforms as tf\n",
    "import opencvlib.view as view\n",
    "from funclib.iolib import PrintProgress as PP\n",
    "from funclib.iolib import PrintProgressFlash as PPF\n",
    "\n",
    "print('Done')"
   ]
  },
  {
   "cell_type": "code",
   "execution_count": 11,
   "metadata": {},
   "outputs": [
    {
     "data": {
      "text/plain": [
       "True"
      ]
     },
     "execution_count": 11,
     "metadata": {},
     "output_type": "execute_result"
    }
   ],
   "source": [
    "#DENOISE SINGLE\n",
    "\n",
    "\n",
    "#h : parameter deciding filter strength. Higher h value removes noise better, but removes details of image also. (10 is ok)\n",
    "#hForColorComponents : same as h, but for color images only. (normally same as h)\n",
    "#templateWindowSize : should be odd. (recommended 7)\n",
    "#searchWindowSize : should be odd. (recommended 21)\n",
    "h = 12          \n",
    "I = cv2.imread(r'C:\\Users\\Graham Monkman\\OneDrive\\ebay\\1 tolist\\gamepad_dragon\\DSCF1545.JPG',cv2.IMREAD_UNCHANGED)\n",
    "I = cv2.fastNlMeansDenoisingColored(I, None, h, h, 7, 21)\n",
    "cv2.imwrite(r'C:\\Users\\Graham Monkman\\OneDrive\\ebay\\1 tolist\\gamepad_dragon\\DSCF1545_DN.JPG', I)            "
   ]
  },
  {
   "cell_type": "code",
   "execution_count": null,
   "metadata": {},
   "outputs": [
    {
     "name": "stdout",
     "output_type": "stream",
     "text": [
      "Copied files to C:\\Users\\Graham Monkman\\OneDrive\\ebay\\1 tolist\\thinkstation_mobos\\_backup\n",
      "\n",
      "\n",
      "Mosaicing\n",
      "\n",
      "\n"
     ]
    },
    {
     "name": "stderr",
     "output_type": "stream",
     "text": [
      "C:\\development\\python\\opencvlib\\view.py:321: FutureWarning: arrays to stack must be passed as a \"sequence\" type such as list or tuple. Support for non-sequence iterables such as generators is deprecated as of NumPy 1.16 and will raise an error in the future.\n",
      "  out = _np.vstack(map(_np.hstack, rows))\n"
     ]
    },
    {
     "name": "stdout",
     "output_type": "stream",
     "text": [
      "\\\\\\\\\r"
     ]
    }
   ],
   "source": [
    "#easy_mosaic\n",
    "#This should resize images to w=1920, overwriting the originals\n",
    "#and then create 2x2 mosaics for each image, and delete the originals\n",
    "#used in the mosaic\n",
    "\n",
    "cnt = 0\n",
    "\n",
    "PATCHES = 4\n",
    "COLS = 2\n",
    "DO_DELETE = True #delete the original images\n",
    "DO_RESIZE = False\n",
    "DO_DENOISE = False\n",
    "CREATE_BACKUP = True #create a backup\n",
    "MOSAIC = True\n",
    "\n",
    "fld_nr = 1\n",
    "\n",
    "FOLDERS = [\n",
    "r'C:\\Users\\Graham Monkman\\OneDrive\\ebay\\1 tolist\\thinkstation_mobos'\n",
    "]\n",
    "\n",
    "\n",
    "for FLD in FOLDERS:\n",
    "    FLD = path.normpath(FLD)\n",
    "    FLD_BACKUP = path.normpath('%s/_backup' % FLD)\n",
    "    WIDTH = 2400 #1920\n",
    "    INCLUDE = ['DSCF','dscf'] #only include images which match this wildcard\n",
    "\n",
    "    if CREATE_BACKUP:\n",
    "        iolib.create_folder(FLD_BACKUP)\n",
    "        fp = gen.FromPaths(FLD)\n",
    "        for _, fname, _ in fp.generate(pathonly=True):\n",
    "            d, f, e = iolib.get_file_parts2(fname)\n",
    "            dst = '%s/%s' % (FLD_BACKUP, f)\n",
    "            copyfile(fname, dst)\n",
    "        print('Copied files to %s' % FLD_BACKUP)\n",
    "\n",
    "\n",
    "    def resize_(I, fname, width=WIDTH, overwrite_orig=False):\n",
    "        '''overwrite the original image'''\n",
    "        I = tf.resize(image=I, width=width)\n",
    "        \n",
    "        if overwrite_orig:\n",
    "            cv2.imwrite(fname, I)\n",
    "        return I\n",
    "\n",
    "    if DO_RESIZE or DO_DENOISE:\n",
    "        print('\\n\\nResizing/Denoising')\n",
    "        j = 1\n",
    "        fp = gen.FromPaths(FLD)\n",
    "        n = len(list(1 for _ in fp.generate(pathonly=True)))\n",
    "        P = PP(maximum=n)\n",
    "        for I, fname, _ in fp.generate():\n",
    "            _, f, ext = iolib.get_file_parts(fname)\n",
    "            if DO_RESIZE:\n",
    "                I = resize_(I, fname, overwrite_orig=False)\n",
    "\n",
    "            if DO_DENOISE:\n",
    "                I = cv2.fastNlMeansDenoisingColored(I, None, 12, 12, 11, 31)\n",
    "\n",
    "            cv2.imwrite(fname, I)\n",
    "            P.increment(suffix='1 of %s' % j)\n",
    "            j+=1\n",
    "\n",
    "\n",
    "\n",
    "    if MOSAIC:\n",
    "    \n",
    "        print('\\n\\nMosaicing')\n",
    "        files = [f for f in iolib.file_list_generator1(FLD, ['.jpg'], recurse=False)]\n",
    "        images = []\n",
    "        pf = PPF()\n",
    "        for i, f in enumerate(files):\n",
    "            if any([s in f for s in INCLUDE]):\n",
    "                images.append(f)\n",
    "                if len(images) == PATCHES:\n",
    "                    I = view.mosaic(images, cols=COLS, save_as='%s/mosaic%s.jpg' % (FLD, int((i + 1)/4)))\n",
    "                    pf.update()\n",
    "                    if DO_DELETE:\n",
    "                        iolib.files_delete2(images)\n",
    "                    images = []\n",
    "            \n",
    "\n",
    "        if len(images) > 1:\n",
    "            I = view.mosaic(images, cols=COLS, save_as='%s/mosaic%s.jpg' % (FLD, '_last'))\n",
    "            pf.update()\n",
    "            if DO_DELETE:\n",
    "                iolib.files_delete2(images)\n",
    "            images = []\n",
    "    \n",
    "\n",
    "print('Done')"
   ]
  },
  {
   "cell_type": "code",
   "execution_count": 10,
   "metadata": {},
   "outputs": [],
   "source": [
    "from funclib.iolib import PrintProgressFlash as PPF"
   ]
  },
  {
   "cell_type": "code",
   "execution_count": null,
   "metadata": {},
   "outputs": [],
   "source": []
  }
 ],
 "metadata": {
  "kernelspec": {
   "display_name": "Python 3 (ipykernel)",
   "language": "python",
   "name": "python3"
  },
  "language_info": {
   "codemirror_mode": {
    "name": "ipython",
    "version": 3
   },
   "file_extension": ".py",
   "mimetype": "text/x-python",
   "name": "python",
   "nbconvert_exporter": "python",
   "pygments_lexer": "ipython3",
   "version": "3.7.9"
  }
 },
 "nbformat": 4,
 "nbformat_minor": 2
}
